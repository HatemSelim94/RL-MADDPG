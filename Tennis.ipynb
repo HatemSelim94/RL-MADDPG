{
 "cells": [
  {
   "cell_type": "markdown",
   "metadata": {},
   "source": [
    "# Collaboration and Competition\n",
    "\n",
    "---\n",
    "\n",
    "You are welcome to use this coding environment to train your agent for the project.  Follow the instructions below to get started!\n",
    "\n",
    "### 1. Start the Environment\n",
    "\n",
    "Run the next code cell to install a few packages.  This line will take a few minutes to run!"
   ]
  },
  {
   "cell_type": "code",
   "execution_count": 1,
   "metadata": {},
   "outputs": [
    {
     "name": "stdout",
     "output_type": "stream",
     "text": [
      "\u001b[31mtensorflow 1.7.1 has requirement numpy>=1.13.3, but you'll have numpy 1.12.1 which is incompatible.\u001b[0m\r\n",
      "\u001b[31mipython 6.5.0 has requirement prompt-toolkit<2.0.0,>=1.0.15, but you'll have prompt-toolkit 3.0.18 which is incompatible.\u001b[0m\r\n"
     ]
    }
   ],
   "source": [
    "!pip -q install ./python"
   ]
  },
  {
   "cell_type": "markdown",
   "metadata": {},
   "source": [
    "The environment is already saved in the Workspace and can be accessed at the file path provided below. "
   ]
  },
  {
   "cell_type": "markdown",
   "metadata": {},
   "source": [
    "Environments contain **_brains_** which are responsible for deciding the actions of their associated agents. Here we check for the first brain available, and set it as the default brain we will be controlling from Python."
   ]
  },
  {
   "cell_type": "markdown",
   "metadata": {},
   "source": [
    "### 4. It's Your Turn!\n",
    "\n",
    "Now it's your turn to train your own agent to solve the environment!  A few **important notes**:\n",
    "- When training the environment, set `train_mode=True`, so that the line for resetting the environment looks like the following:\n",
    "```python\n",
    "env_info = env.reset(train_mode=True)[brain_name]\n",
    "```\n",
    "- To structure your work, you're welcome to work directly in this Jupyter notebook, or you might like to start over with a new file!  You can see the list of files in the workspace by clicking on **_Jupyter_** in the top left corner of the notebook.\n",
    "- In this coding environment, you will not be able to watch the agents while they are training.  However, **_after training the agents_**, you can download the saved model weights to watch the agents on your own machine! "
   ]
  },
  {
   "cell_type": "code",
   "execution_count": 3,
   "metadata": {},
   "outputs": [
    {
     "name": "stderr",
     "output_type": "stream",
     "text": [
      "INFO:unityagents:\n",
      "'Academy' started successfully!\n",
      "Unity Academy name: Academy\n",
      "        Number of Brains: 1\n",
      "        Number of External Brains : 1\n",
      "        Lesson number : 0\n",
      "        Reset Parameters :\n",
      "\t\t\n",
      "Unity brain name: TennisBrain\n",
      "        Number of Visual Observations (per agent): 0\n",
      "        Vector Observation space type: continuous\n",
      "        Vector Observation space size (per agent): 8\n",
      "        Number of stacked Vector Observation: 3\n",
      "        Vector Action space type: continuous\n",
      "        Vector Action space size (per agent): 2\n",
      "        Vector Action descriptions: , \n"
     ]
    }
   ],
   "source": [
    "from unityagents import UnityEnvironment\n",
    "from maddpg import maddpg_train\n",
    "import matplotlib.pyplot as plt\n",
    "\n",
    "# Unity environment\n",
    "env = UnityEnvironment(file_name=\"/data/Tennis_Linux_NoVis/Tennis\")\n",
    "brain_name = env.brain_names[0]\n",
    "brain = env.brains[brain_name]\n",
    "env_info = env.reset(train_mode=True)[brain_name]\n",
    "states = env_info.vector_observations"
   ]
  },
  {
   "cell_type": "code",
   "execution_count": 4,
   "metadata": {},
   "outputs": [
    {
     "name": "stdout",
     "output_type": "stream",
     "text": [
      "Episode 100\tAverage Score in 100 episodes: 0.01\t Episode score: 0.0\n",
      "1631\n",
      "Episode 200\tAverage Score in 100 episodes: 0.01\t Episode score: 0.0\n",
      "3283\n",
      "Episode 300\tAverage Score in 100 episodes: 0.01\t Episode score: 0.0\n",
      "5010\n",
      "Episode 400\tAverage Score in 100 episodes: 0.01\t Episode score: 0.0\n",
      "6650\n",
      "Episode 500\tAverage Score in 100 episodes: 0.01\t Episode score: 0.10000000149011612\n",
      "8287\n",
      "Episode 600\tAverage Score in 100 episodes: 0.01\t Episode score: 0.0\n",
      "10023\n",
      "Episode 700\tAverage Score in 100 episodes: 0.00\t Episode score: 0.0\n",
      "11474\n",
      "Episode 800\tAverage Score in 100 episodes: 0.01\t Episode score: 0.0\n",
      "13151\n",
      "Episode 900\tAverage Score in 100 episodes: 0.00\t Episode score: 0.0\n",
      "14571\n",
      "Episode 1000\tAverage Score in 100 episodes: 0.00\t Episode score: 0.0\n",
      "15991\n",
      "Episode 1100\tAverage Score in 100 episodes: 0.00\t Episode score: 0.0\n",
      "17411\n",
      "Episode 1200\tAverage Score in 100 episodes: 0.00\t Episode score: 0.0\n",
      "18831\n",
      "Episode 1300\tAverage Score in 100 episodes: 0.00\t Episode score: 0.0\n",
      "20251\n",
      "Episode 1400\tAverage Score in 100 episodes: 0.00\t Episode score: 0.0\n",
      "21671\n",
      "Episode 1500\tAverage Score in 100 episodes: 0.00\t Episode score: 0.0\n",
      "23091\n",
      "Episode 1600\tAverage Score in 100 episodes: 0.00\t Episode score: 0.0\n",
      "24580\n",
      "Episode 1700\tAverage Score in 100 episodes: 0.01\t Episode score: 0.0\n",
      "26076\n",
      "Episode 1800\tAverage Score in 100 episodes: 0.00\t Episode score: 0.0\n",
      "27503\n",
      "Episode 1900\tAverage Score in 100 episodes: 0.00\t Episode score: 0.0\n",
      "28923\n",
      "Episode 2000\tAverage Score in 100 episodes: 0.00\t Episode score: 0.0\n",
      "30397\n",
      "Episode 2100\tAverage Score in 100 episodes: 0.01\t Episode score: 0.0\n",
      "31965\n",
      "Episode 2200\tAverage Score in 100 episodes: 0.01\t Episode score: 0.0\n",
      "33577\n",
      "Episode 2300\tAverage Score in 100 episodes: 0.00\t Episode score: 0.0\n",
      "35016\n",
      "Episode 2400\tAverage Score in 100 episodes: 0.00\t Episode score: 0.0\n",
      "36436\n",
      "Episode 2500\tAverage Score in 100 episodes: 0.00\t Episode score: 0.0\n",
      "37856\n",
      "Episode 2600\tAverage Score in 100 episodes: 0.01\t Episode score: 0.0\n",
      "39418\n",
      "Episode 2700\tAverage Score in 100 episodes: 0.01\t Episode score: 0.0\n",
      "41105\n",
      "Episode 2800\tAverage Score in 100 episodes: 0.02\t Episode score: 0.0\n",
      "42991\n",
      "Episode 2900\tAverage Score in 100 episodes: 0.03\t Episode score: 0.0\n",
      "45058\n",
      "Episode 3000\tAverage Score in 100 episodes: 0.04\t Episode score: 0.0\n",
      "47299\n",
      "Episode 3100\tAverage Score in 100 episodes: 0.04\t Episode score: 0.10000000149011612\n",
      "49589\n",
      "Episode 3200\tAverage Score in 100 episodes: 0.04\t Episode score: 0.0\n",
      "51813\n",
      "Episode 3300\tAverage Score in 100 episodes: 0.04\t Episode score: 0.0\n",
      "53950\n",
      "Episode 3400\tAverage Score in 100 episodes: 0.04\t Episode score: 0.0\n",
      "56112\n",
      "Episode 3500\tAverage Score in 100 episodes: 0.03\t Episode score: 0.0\n",
      "58247\n",
      "Episode 3600\tAverage Score in 100 episodes: 0.04\t Episode score: 0.10000000149011612\n",
      "60398\n",
      "Episode 3700\tAverage Score in 100 episodes: 0.04\t Episode score: 0.0\n",
      "62564\n",
      "Episode 3800\tAverage Score in 100 episodes: 0.04\t Episode score: 0.0\n",
      "64713\n",
      "Episode 3900\tAverage Score in 100 episodes: 0.05\t Episode score: 0.10000000149011612\n",
      "66964\n",
      "Episode 4000\tAverage Score in 100 episodes: 0.04\t Episode score: 0.10000000149011612\n",
      "69125\n",
      "Episode 4100\tAverage Score in 100 episodes: 0.04\t Episode score: 0.0\n",
      "71199\n",
      "Episode 4200\tAverage Score in 100 episodes: 0.06\t Episode score: 0.10000000149011612\n",
      "73627\n",
      "Episode 4300\tAverage Score in 100 episodes: 0.04\t Episode score: 0.0\n",
      "75781\n",
      "Episode 4400\tAverage Score in 100 episodes: 0.05\t Episode score: 0.10000000149011612\n",
      "78015\n",
      "Episode 4500\tAverage Score in 100 episodes: 0.05\t Episode score: 0.0\n",
      "80332\n",
      "Episode 4600\tAverage Score in 100 episodes: 0.05\t Episode score: 0.10000000149011612\n",
      "82546\n",
      "Episode 4700\tAverage Score in 100 episodes: 0.04\t Episode score: 0.10000000149011612\n",
      "84675\n",
      "Episode 4800\tAverage Score in 100 episodes: 0.05\t Episode score: 0.0\n",
      "86875\n",
      "Episode 4900\tAverage Score in 100 episodes: 0.05\t Episode score: 0.10000000149011612\n",
      "89042\n",
      "Episode 5000\tAverage Score in 100 episodes: 0.05\t Episode score: 0.10000000149011612\n",
      "91262\n",
      "Episode 5100\tAverage Score in 100 episodes: 0.04\t Episode score: 0.10000000149011612\n",
      "93402\n",
      "Episode 5200\tAverage Score in 100 episodes: 0.06\t Episode score: 0.10000000149011612\n",
      "95770\n",
      "Episode 5300\tAverage Score in 100 episodes: 0.05\t Episode score: 0.0\n",
      "98172\n",
      "Episode 5400\tAverage Score in 100 episodes: 0.05\t Episode score: 0.0\n",
      "100000\n",
      "Episode 5500\tAverage Score in 100 episodes: 0.04\t Episode score: 0.0\n",
      "100000\n",
      "Episode 5600\tAverage Score in 100 episodes: 0.03\t Episode score: 0.0\n",
      "100000\n",
      "Episode 5700\tAverage Score in 100 episodes: 0.05\t Episode score: 0.10000000149011612\n",
      "100000\n",
      "Episode 5800\tAverage Score in 100 episodes: 0.04\t Episode score: 0.0\n",
      "100000\n",
      "Episode 5900\tAverage Score in 100 episodes: 0.04\t Episode score: 0.0\n",
      "100000\n",
      "Episode 6000\tAverage Score in 100 episodes: 0.06\t Episode score: 0.0\n",
      "100000\n",
      "Episode 6100\tAverage Score in 100 episodes: 0.05\t Episode score: 0.0\n",
      "100000\n",
      "Episode 6200\tAverage Score in 100 episodes: 0.04\t Episode score: 0.0\n",
      "100000\n",
      "Episode 6300\tAverage Score in 100 episodes: 0.04\t Episode score: 0.10000000149011612\n",
      "100000\n",
      "Episode 6400\tAverage Score in 100 episodes: 0.04\t Episode score: 0.0\n",
      "100000\n",
      "Episode 6500\tAverage Score in 100 episodes: 0.06\t Episode score: 0.10000000149011612\n",
      "100000\n",
      "Episode 6600\tAverage Score in 100 episodes: 0.09\t Episode score: 0.10000000149011612\n",
      "100000\n",
      "Episode 6700\tAverage Score in 100 episodes: 0.08\t Episode score: 0.10000000149011612\n",
      "100000\n",
      "Episode 6800\tAverage Score in 100 episodes: 0.06\t Episode score: 0.0\n",
      "100000\n",
      "Episode 6900\tAverage Score in 100 episodes: 0.11\t Episode score: 0.09000000171363354\n",
      "100000\n",
      "Episode 7000\tAverage Score in 100 episodes: 0.10\t Episode score: 0.10000000149011612\n",
      "100000\n",
      "Episode 7100\tAverage Score in 100 episodes: 0.11\t Episode score: 0.09000000171363354\n",
      "100000\n",
      "Episode 7200\tAverage Score in 100 episodes: 0.09\t Episode score: 0.09000000171363354\n",
      "100000\n",
      "Episode 7300\tAverage Score in 100 episodes: 0.09\t Episode score: 0.10000000149011612\n",
      "100000\n",
      "Episode 7400\tAverage Score in 100 episodes: 0.17\t Episode score: 0.10000000149011612\n",
      "100000\n",
      "Episode 7500\tAverage Score in 100 episodes: 0.24\t Episode score: 0.20000000298023224\n",
      "100000\n",
      "Episode 7600\tAverage Score in 100 episodes: 0.18\t Episode score: 0.19000000320374966\n",
      "100000\n",
      "Episode 7700\tAverage Score in 100 episodes: 0.17\t Episode score: 0.09000000171363354\n",
      "100000\n",
      "Episode 7800\tAverage Score in 100 episodes: 0.20\t Episode score: 0.20000000298023224\n",
      "100000\n",
      "Episode 7900\tAverage Score in 100 episodes: 0.16\t Episode score: 0.10000000149011612\n",
      "100000\n",
      "Episode 8000\tAverage Score in 100 episodes: 0.12\t Episode score: 0.19000000320374966\n",
      "100000\n",
      "Episode 8100\tAverage Score in 100 episodes: 0.13\t Episode score: 0.10000000149011612\n",
      "100000\n",
      "Episode 8200\tAverage Score in 100 episodes: 0.22\t Episode score: 0.10000000149011612\n",
      "100000\n",
      "Episode 8300\tAverage Score in 100 episodes: 0.29\t Episode score: 0.10000000149011612\n",
      "100000\n",
      "Episode 8400\tAverage Score in 100 episodes: 0.22\t Episode score: 0.10000000149011612\n",
      "100000\n",
      "Episode 8500\tAverage Score in 100 episodes: 0.75\t Episode score: 2.7000000402331352\n",
      "100000\n"
     ]
    }
   ],
   "source": [
    "state_size = states.shape[1]\n",
    "action_size = brain.vector_action_space_size\n",
    "agents_num=2\n",
    "scores, avg_scores =  maddpg_train(agents_num, action_size, state_size, env, \n",
    "                       brain_name,buffer_size = int(1e5),batch_size = 256, seed = 0, n_episodes=50000, \n",
    "                       max_t=4000, print_every=100, update_every = 4, tau = 1e-3, actorLr =1e-4,\n",
    "                       criticLr = 1e-3, weight_decay = 0)\n"
   ]
  },
  {
   "cell_type": "code",
   "execution_count": 15,
   "metadata": {},
   "outputs": [
    {
     "data": {
      "image/png": "[encoded data removed]",
      "text/plain": [
       "<matplotlib.figure.Figure at 0x7f5d72be5f60>"
      ]
     },
     "metadata": {
      "needs_background": "light"
     },
     "output_type": "display_data"
    }
   ],
   "source": [
    "# plot result\n",
    "import numpy as np\n",
    "episodes = list(range(1, len(scores)+1))\n",
    "plt.plot(episodes, scores,marker='*', label=\"Score per episode\")\n",
    "plt.plot(np.array(list(range(1,len(avg_scores)+1)))*100,avg_scores, label=\"Average score over 100 episodes\")\n",
    "plt.title(\"MADDPG-Tennis\")\n",
    "plt.xlabel(\"Episode\")\n",
    "plt.ylabel(\"Score\")\n",
    "plt.axvline(episodes[-1]-100,color='g')\n",
    "plt.axhline(0.5,color='g')\n",
    "plt.legend()\n",
    "plt.savefig('MADDPG_Tennis_score.png', bbox_inches='tight')"
   ]
  },
  {
   "cell_type": "code",
   "execution_count": null,
   "metadata": {},
   "outputs": [],
   "source": []
  }
 ],
 "metadata": {
  "kernelspec": {
   "display_name": "Python 3",
   "language": "python",
   "name": "python3"
  },
  "language_info": {
   "codemirror_mode": {
    "name": "ipython",
    "version": 3
   },
   "file_extension": ".py",
   "mimetype": "text/x-python",
   "name": "python",
   "nbconvert_exporter": "python",
   "pygments_lexer": "ipython3",
   "version": "3.6.3"
  }
 },
 "nbformat": 4,
 "nbformat_minor": 2
}
